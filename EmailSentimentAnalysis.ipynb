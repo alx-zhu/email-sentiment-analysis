{
  "nbformat": 4,
  "nbformat_minor": 0,
  "metadata": {
    "colab": {
      "provenance": [],
      "collapsed_sections": [
        "_5H_EdKlphLQ"
      ],
      "authorship_tag": "ABX9TyPGxCsgdm5ywoUQtpY+1zew",
      "include_colab_link": true
    },
    "kernelspec": {
      "name": "python3",
      "display_name": "Python 3"
    },
    "language_info": {
      "name": "python"
    }
  },
  "cells": [
    {
      "cell_type": "markdown",
      "metadata": {
        "id": "view-in-github",
        "colab_type": "text"
      },
      "source": [
        "<a href=\"https://colab.research.google.com/github/alx-zhu/email-sentiment-analysis/blob/main/EmailSentimentAnalysis.ipynb\" target=\"_parent\"><img src=\"https://colab.research.google.com/assets/colab-badge.svg\" alt=\"Open In Colab\"/></a>"
      ]
    },
    {
      "cell_type": "markdown",
      "source": [
        "# Installing and Importing Libraries"
      ],
      "metadata": {
        "id": "wpK8-h8CpagA"
      }
    },
    {
      "cell_type": "code",
      "source": [
        "!pip install --upgrade google-api-python-client google-auth-httplib2 google-auth-oauthlib"
      ],
      "metadata": {
        "id": "VQbckpIYi_7n",
        "colab": {
          "base_uri": "https://localhost:8080/"
        },
        "outputId": "9ce9e955-1731-43bb-f869-ac10238ce169"
      },
      "execution_count": null,
      "outputs": [
        {
          "output_type": "stream",
          "name": "stdout",
          "text": [
            "Looking in indexes: https://pypi.org/simple, https://us-python.pkg.dev/colab-wheels/public/simple/\n",
            "Requirement already satisfied: google-api-python-client in /usr/local/lib/python3.10/dist-packages (2.84.0)\n",
            "Collecting google-api-python-client\n",
            "  Downloading google_api_python_client-2.86.0-py2.py3-none-any.whl (11.3 MB)\n",
            "\u001b[2K     \u001b[90m━━━━━━━━━━━━━━━━━━━━━━━━━━━━━━━━━━━━━━━━\u001b[0m \u001b[32m11.3/11.3 MB\u001b[0m \u001b[31m72.2 MB/s\u001b[0m eta \u001b[36m0:00:00\u001b[0m\n",
            "\u001b[?25hRequirement already satisfied: google-auth-httplib2 in /usr/local/lib/python3.10/dist-packages (0.1.0)\n",
            "Requirement already satisfied: google-auth-oauthlib in /usr/local/lib/python3.10/dist-packages (1.0.0)\n",
            "Requirement already satisfied: httplib2<1dev,>=0.15.0 in /usr/local/lib/python3.10/dist-packages (from google-api-python-client) (0.21.0)\n",
            "Requirement already satisfied: google-auth<3.0.0dev,>=1.19.0 in /usr/local/lib/python3.10/dist-packages (from google-api-python-client) (2.17.3)\n",
            "Requirement already satisfied: google-api-core!=2.0.*,!=2.1.*,!=2.2.*,!=2.3.0,<3.0.0dev,>=1.31.5 in /usr/local/lib/python3.10/dist-packages (from google-api-python-client) (2.11.0)\n",
            "Requirement already satisfied: uritemplate<5,>=3.0.1 in /usr/local/lib/python3.10/dist-packages (from google-api-python-client) (4.1.1)\n",
            "Requirement already satisfied: six in /usr/local/lib/python3.10/dist-packages (from google-auth-httplib2) (1.16.0)\n",
            "Requirement already satisfied: requests-oauthlib>=0.7.0 in /usr/local/lib/python3.10/dist-packages (from google-auth-oauthlib) (1.3.1)\n",
            "Requirement already satisfied: googleapis-common-protos<2.0dev,>=1.56.2 in /usr/local/lib/python3.10/dist-packages (from google-api-core!=2.0.*,!=2.1.*,!=2.2.*,!=2.3.0,<3.0.0dev,>=1.31.5->google-api-python-client) (1.59.0)\n",
            "Requirement already satisfied: protobuf!=3.20.0,!=3.20.1,!=4.21.0,!=4.21.1,!=4.21.2,!=4.21.3,!=4.21.4,!=4.21.5,<5.0.0dev,>=3.19.5 in /usr/local/lib/python3.10/dist-packages (from google-api-core!=2.0.*,!=2.1.*,!=2.2.*,!=2.3.0,<3.0.0dev,>=1.31.5->google-api-python-client) (3.20.3)\n",
            "Requirement already satisfied: requests<3.0.0dev,>=2.18.0 in /usr/local/lib/python3.10/dist-packages (from google-api-core!=2.0.*,!=2.1.*,!=2.2.*,!=2.3.0,<3.0.0dev,>=1.31.5->google-api-python-client) (2.27.1)\n",
            "Requirement already satisfied: cachetools<6.0,>=2.0.0 in /usr/local/lib/python3.10/dist-packages (from google-auth<3.0.0dev,>=1.19.0->google-api-python-client) (5.3.0)\n",
            "Requirement already satisfied: pyasn1-modules>=0.2.1 in /usr/local/lib/python3.10/dist-packages (from google-auth<3.0.0dev,>=1.19.0->google-api-python-client) (0.3.0)\n",
            "Requirement already satisfied: rsa<5,>=3.1.4 in /usr/local/lib/python3.10/dist-packages (from google-auth<3.0.0dev,>=1.19.0->google-api-python-client) (4.9)\n",
            "Requirement already satisfied: pyparsing!=3.0.0,!=3.0.1,!=3.0.2,!=3.0.3,<4,>=2.4.2 in /usr/local/lib/python3.10/dist-packages (from httplib2<1dev,>=0.15.0->google-api-python-client) (3.0.9)\n",
            "Requirement already satisfied: oauthlib>=3.0.0 in /usr/local/lib/python3.10/dist-packages (from requests-oauthlib>=0.7.0->google-auth-oauthlib) (3.2.2)\n",
            "Requirement already satisfied: pyasn1<0.6.0,>=0.4.6 in /usr/local/lib/python3.10/dist-packages (from pyasn1-modules>=0.2.1->google-auth<3.0.0dev,>=1.19.0->google-api-python-client) (0.5.0)\n",
            "Requirement already satisfied: urllib3<1.27,>=1.21.1 in /usr/local/lib/python3.10/dist-packages (from requests<3.0.0dev,>=2.18.0->google-api-core!=2.0.*,!=2.1.*,!=2.2.*,!=2.3.0,<3.0.0dev,>=1.31.5->google-api-python-client) (1.26.15)\n",
            "Requirement already satisfied: certifi>=2017.4.17 in /usr/local/lib/python3.10/dist-packages (from requests<3.0.0dev,>=2.18.0->google-api-core!=2.0.*,!=2.1.*,!=2.2.*,!=2.3.0,<3.0.0dev,>=1.31.5->google-api-python-client) (2022.12.7)\n",
            "Requirement already satisfied: charset-normalizer~=2.0.0 in /usr/local/lib/python3.10/dist-packages (from requests<3.0.0dev,>=2.18.0->google-api-core!=2.0.*,!=2.1.*,!=2.2.*,!=2.3.0,<3.0.0dev,>=1.31.5->google-api-python-client) (2.0.12)\n",
            "Requirement already satisfied: idna<4,>=2.5 in /usr/local/lib/python3.10/dist-packages (from requests<3.0.0dev,>=2.18.0->google-api-core!=2.0.*,!=2.1.*,!=2.2.*,!=2.3.0,<3.0.0dev,>=1.31.5->google-api-python-client) (3.4)\n",
            "Installing collected packages: google-api-python-client\n",
            "  Attempting uninstall: google-api-python-client\n",
            "    Found existing installation: google-api-python-client 2.84.0\n",
            "    Uninstalling google-api-python-client-2.84.0:\n",
            "      Successfully uninstalled google-api-python-client-2.84.0\n",
            "Successfully installed google-api-python-client-2.86.0\n"
          ]
        }
      ]
    },
    {
      "cell_type": "code",
      "source": [
        "!pip3 install torch torchvision torchaudio --index-url https://download.pytorch.org/whl/cu117"
      ],
      "metadata": {
        "id": "aHTVp5yEpxkf",
        "colab": {
          "base_uri": "https://localhost:8080/"
        },
        "outputId": "71307837-d5d5-43d6-a8e8-863aa4645775"
      },
      "execution_count": null,
      "outputs": [
        {
          "output_type": "stream",
          "name": "stdout",
          "text": [
            "Looking in indexes: https://download.pytorch.org/whl/cu117, https://us-python.pkg.dev/colab-wheels/public/simple/\n",
            "Requirement already satisfied: torch in /usr/local/lib/python3.10/dist-packages (2.0.1+cu118)\n",
            "Requirement already satisfied: torchvision in /usr/local/lib/python3.10/dist-packages (0.15.2+cu118)\n",
            "Requirement already satisfied: torchaudio in /usr/local/lib/python3.10/dist-packages (2.0.2+cu118)\n",
            "Requirement already satisfied: filelock in /usr/local/lib/python3.10/dist-packages (from torch) (3.12.0)\n",
            "Requirement already satisfied: typing-extensions in /usr/local/lib/python3.10/dist-packages (from torch) (4.5.0)\n",
            "Requirement already satisfied: sympy in /usr/local/lib/python3.10/dist-packages (from torch) (1.11.1)\n",
            "Requirement already satisfied: networkx in /usr/local/lib/python3.10/dist-packages (from torch) (3.1)\n",
            "Requirement already satisfied: jinja2 in /usr/local/lib/python3.10/dist-packages (from torch) (3.1.2)\n",
            "Requirement already satisfied: triton==2.0.0 in /usr/local/lib/python3.10/dist-packages (from torch) (2.0.0)\n",
            "Requirement already satisfied: cmake in /usr/local/lib/python3.10/dist-packages (from triton==2.0.0->torch) (3.25.2)\n",
            "Requirement already satisfied: lit in /usr/local/lib/python3.10/dist-packages (from triton==2.0.0->torch) (16.0.5)\n",
            "Requirement already satisfied: numpy in /usr/local/lib/python3.10/dist-packages (from torchvision) (1.22.4)\n",
            "Requirement already satisfied: requests in /usr/local/lib/python3.10/dist-packages (from torchvision) (2.27.1)\n",
            "Requirement already satisfied: pillow!=8.3.*,>=5.3.0 in /usr/local/lib/python3.10/dist-packages (from torchvision) (8.4.0)\n",
            "Requirement already satisfied: MarkupSafe>=2.0 in /usr/local/lib/python3.10/dist-packages (from jinja2->torch) (2.1.2)\n",
            "Requirement already satisfied: urllib3<1.27,>=1.21.1 in /usr/local/lib/python3.10/dist-packages (from requests->torchvision) (1.26.15)\n",
            "Requirement already satisfied: certifi>=2017.4.17 in /usr/local/lib/python3.10/dist-packages (from requests->torchvision) (2022.12.7)\n",
            "Requirement already satisfied: charset-normalizer~=2.0.0 in /usr/local/lib/python3.10/dist-packages (from requests->torchvision) (2.0.12)\n",
            "Requirement already satisfied: idna<4,>=2.5 in /usr/local/lib/python3.10/dist-packages (from requests->torchvision) (3.4)\n",
            "Requirement already satisfied: mpmath>=0.19 in /usr/local/lib/python3.10/dist-packages (from sympy->torch) (1.3.0)\n"
          ]
        }
      ]
    },
    {
      "cell_type": "code",
      "source": [
        "!pip3 install transformers"
      ],
      "metadata": {
        "id": "OcSpfmVRpzjg",
        "colab": {
          "base_uri": "https://localhost:8080/"
        },
        "outputId": "aa491d72-be27-418b-c9b3-12b0a455fa09"
      },
      "execution_count": null,
      "outputs": [
        {
          "output_type": "stream",
          "name": "stdout",
          "text": [
            "Looking in indexes: https://pypi.org/simple, https://us-python.pkg.dev/colab-wheels/public/simple/\n",
            "Collecting transformers\n",
            "  Downloading transformers-4.29.2-py3-none-any.whl (7.1 MB)\n",
            "\u001b[2K     \u001b[90m━━━━━━━━━━━━━━━━━━━━━━━━━━━━━━━━━━━━━━━━\u001b[0m \u001b[32m7.1/7.1 MB\u001b[0m \u001b[31m51.3 MB/s\u001b[0m eta \u001b[36m0:00:00\u001b[0m\n",
            "\u001b[?25hRequirement already satisfied: filelock in /usr/local/lib/python3.10/dist-packages (from transformers) (3.12.0)\n",
            "Collecting huggingface-hub<1.0,>=0.14.1 (from transformers)\n",
            "  Downloading huggingface_hub-0.14.1-py3-none-any.whl (224 kB)\n",
            "\u001b[2K     \u001b[90m━━━━━━━━━━━━━━━━━━━━━━━━━━━━━━━━━━━━━━━\u001b[0m \u001b[32m224.5/224.5 kB\u001b[0m \u001b[31m8.3 MB/s\u001b[0m eta \u001b[36m0:00:00\u001b[0m\n",
            "\u001b[?25hRequirement already satisfied: numpy>=1.17 in /usr/local/lib/python3.10/dist-packages (from transformers) (1.22.4)\n",
            "Requirement already satisfied: packaging>=20.0 in /usr/local/lib/python3.10/dist-packages (from transformers) (23.1)\n",
            "Requirement already satisfied: pyyaml>=5.1 in /usr/local/lib/python3.10/dist-packages (from transformers) (6.0)\n",
            "Requirement already satisfied: regex!=2019.12.17 in /usr/local/lib/python3.10/dist-packages (from transformers) (2022.10.31)\n",
            "Requirement already satisfied: requests in /usr/local/lib/python3.10/dist-packages (from transformers) (2.27.1)\n",
            "Collecting tokenizers!=0.11.3,<0.14,>=0.11.1 (from transformers)\n",
            "  Downloading tokenizers-0.13.3-cp310-cp310-manylinux_2_17_x86_64.manylinux2014_x86_64.whl (7.8 MB)\n",
            "\u001b[2K     \u001b[90m━━━━━━━━━━━━━━━━━━━━━━━━━━━━━━━━━━━━━━━━\u001b[0m \u001b[32m7.8/7.8 MB\u001b[0m \u001b[31m27.3 MB/s\u001b[0m eta \u001b[36m0:00:00\u001b[0m\n",
            "\u001b[?25hRequirement already satisfied: tqdm>=4.27 in /usr/local/lib/python3.10/dist-packages (from transformers) (4.65.0)\n",
            "Requirement already satisfied: fsspec in /usr/local/lib/python3.10/dist-packages (from huggingface-hub<1.0,>=0.14.1->transformers) (2023.4.0)\n",
            "Requirement already satisfied: typing-extensions>=3.7.4.3 in /usr/local/lib/python3.10/dist-packages (from huggingface-hub<1.0,>=0.14.1->transformers) (4.5.0)\n",
            "Requirement already satisfied: urllib3<1.27,>=1.21.1 in /usr/local/lib/python3.10/dist-packages (from requests->transformers) (1.26.15)\n",
            "Requirement already satisfied: certifi>=2017.4.17 in /usr/local/lib/python3.10/dist-packages (from requests->transformers) (2022.12.7)\n",
            "Requirement already satisfied: charset-normalizer~=2.0.0 in /usr/local/lib/python3.10/dist-packages (from requests->transformers) (2.0.12)\n",
            "Requirement already satisfied: idna<4,>=2.5 in /usr/local/lib/python3.10/dist-packages (from requests->transformers) (3.4)\n",
            "Installing collected packages: tokenizers, huggingface-hub, transformers\n",
            "Successfully installed huggingface-hub-0.14.1 tokenizers-0.13.3 transformers-4.29.2\n"
          ]
        }
      ]
    },
    {
      "cell_type": "code",
      "execution_count": null,
      "metadata": {
        "id": "gt21cR9Fh0Ut"
      },
      "outputs": [],
      "source": [
        "from __future__ import print_function\n",
        "\n",
        "import os.path\n",
        "\n",
        "from google.auth.transport.requests import Request\n",
        "from google.oauth2.credentials import Credentials\n",
        "from google_auth_oauthlib.flow import InstalledAppFlow\n",
        "from googleapiclient.discovery import build\n",
        "from googleapiclient.errors import HttpError"
      ]
    },
    {
      "cell_type": "code",
      "source": [
        "from transformers import AutoTokenizer, AutoModelForSequenceClassification\n",
        "import torch\n",
        "from bs4 import BeautifulSoup\n",
        "import base64\n",
        "import html\n",
        "import re\n",
        "import pandas as pd"
      ],
      "metadata": {
        "id": "lfkAX4GOpu6S"
      },
      "execution_count": null,
      "outputs": []
    },
    {
      "cell_type": "markdown",
      "source": [
        "# Getting Google Credentials"
      ],
      "metadata": {
        "id": "_5H_EdKlphLQ"
      }
    },
    {
      "cell_type": "code",
      "source": [
        "def google_get_creds():\n",
        "  # From the Gmail API\n",
        "  SCOPES = ['https://mail.google.com/']\n",
        "  creds = None\n",
        "  # The file token.json stores the user's access and refresh tokens, and is\n",
        "  # created automatically when the authorization flow completes for the first\n",
        "  # time.\n",
        "  if os.path.exists('token.json'):\n",
        "    creds = Credentials.from_authorized_user_file('token.json', SCOPES)\n",
        "  # If there are no (valid) credentials available, let the user log in.\n",
        "  if not creds or not creds.valid:\n",
        "    if (os.path.exists('token.json')):\n",
        "      os.remove('token.json')\n",
        "    flow = InstalledAppFlow.from_client_secrets_file(\n",
        "        'credentials.json', SCOPES)\n",
        "    creds = flow.run_local_server(port=0)\n",
        "    # Save the credentials for the next run\n",
        "    with open('token.json', 'w') as token:\n",
        "      token.write(creds.to_json())\n",
        "  return creds"
      ],
      "metadata": {
        "id": "1-SBEwP_iyhs"
      },
      "execution_count": null,
      "outputs": []
    },
    {
      "cell_type": "markdown",
      "source": [
        "# Getting Gmail Labels"
      ],
      "metadata": {
        "id": "1gVm5VsiplQY"
      }
    },
    {
      "cell_type": "code",
      "source": [
        "def gmail_get_labels(creds):\n",
        "  label_dict = dict()\n",
        "  try:\n",
        "    # Call the Gmail API\n",
        "    service = build('gmail', 'v1', credentials=creds)\n",
        "    results = service.users().labels().list(userId='me').execute()\n",
        "    labels = results.get('labels', [])\n",
        "\n",
        "    if not labels:\n",
        "      print('No labels found.')\n",
        "      return\n",
        "    # print('Labels:')\n",
        "    for label in labels:\n",
        "      # print(label['id'], label['name'])\n",
        "      label_dict[label['name']] = label['id']\n",
        "    return label_dict\n",
        "\n",
        "  except HttpError as error:\n",
        "    # TODO(developer) - Handle errors from gmail API.\n",
        "    print(f'An error occurred: {error}')"
      ],
      "metadata": {
        "id": "V-tWx9grilXp"
      },
      "execution_count": null,
      "outputs": []
    },
    {
      "cell_type": "markdown",
      "source": [
        "# Generating Sentiment Score Using BERT"
      ],
      "metadata": {
        "id": "eEj4jY_YpoYk"
      }
    },
    {
      "cell_type": "code",
      "source": [
        "def sentiment_score(message):\n",
        "  tokenizer = AutoTokenizer.from_pretrained('nlptown/bert-base-multilingual-uncased-sentiment')\n",
        "  model = AutoModelForSequenceClassification.from_pretrained('nlptown/bert-base-multilingual-uncased-sentiment')\n",
        "  tokens = tokenizer.encode(message, return_tensors=\"pt\", truncation=True)\n",
        "  result = model(tokens)\n",
        "  return int(torch.argmax(result.logits)) + 1"
      ],
      "metadata": {
        "id": "vh1Fty96pXMl"
      },
      "execution_count": null,
      "outputs": []
    },
    {
      "cell_type": "code",
      "source": [
        "def remove_replies(message):\n",
        "  matched = list(re.finditer(r'On (Mon|Tue|Wed|Thu|Fri|Sat|Sun),.*wrote:', message))\n",
        "  if matched:\n",
        "    matched = matched[0]\n",
        "    message = message[:matched.start()]\n",
        "  return message"
      ],
      "metadata": {
        "id": "NlvU8eVAJvjX"
      },
      "execution_count": null,
      "outputs": []
    },
    {
      "cell_type": "code",
      "source": [
        "def gmail_label_sentiments(creds):\n",
        "  try:\n",
        "    # Call the Gmail API\n",
        "    service = build('gmail', 'v1', credentials=creds)\n",
        "\n",
        "    labels = gmail_get_labels(creds)\n",
        "\n",
        "    # request a list of all the messages\n",
        "    result = service.users().messages().list(userId='me', labelIds=['UNREAD'], maxResults=10).execute()\n",
        "    messages = result.get('messages')\n",
        "\n",
        "    for msg in messages:\n",
        "      txt = service.users().messages().get(userId='me', id=msg['id']).execute()\n",
        "      payload = txt.get(\"payload\")\n",
        "      parts = payload.get(\"parts\")\n",
        "      if parts:\n",
        "        parts = parts[0]\n",
        "        body = parts.get(\"body\")\n",
        "        data = body.get(\"data\")\n",
        "      else:\n",
        "        print(\"Could not read message body. Skipping.\")\n",
        "        continue\n",
        "\n",
        "      if data:\n",
        "        data = data.replace(\"-\",\"+\").replace(\"_\",\"/\")\n",
        "        decoded_data = base64.b64decode(data)\n",
        "        soup = BeautifulSoup(decoded_data , \"lxml\")\n",
        "        if soup:\n",
        "          body = soup.find('p')\n",
        "          if body:\n",
        "            text = body.text\n",
        "            decoded = html.unescape(text)\n",
        "            no_spaces = \" \".join(decoded.split())\n",
        "            message = remove_replies(no_spaces)\n",
        "            score = sentiment_score(message)\n",
        "            result = service.users().messages().modify(userId='me', id=msg['id'], body={\"addLabelIds\": [labels[f'SENTIMENT{score}'], 'UNREAD', 'STARRED']}).execute()\n",
        "            print(f\"Sentiment Score: SENTIMENT{score}\")\n",
        "\n",
        "    # return messages\n",
        "\n",
        "  except HttpError as error:\n",
        "    print(f'An error occurred: {error}')\n"
      ],
      "metadata": {
        "id": "COnyGDOTqhUQ"
      },
      "execution_count": null,
      "outputs": []
    },
    {
      "cell_type": "code",
      "source": [
        "creds = google_get_creds()\n",
        "gmail_label_sentiments(creds)"
      ],
      "metadata": {
        "id": "_B8OuwSSqxug"
      },
      "execution_count": null,
      "outputs": []
    },
    {
      "cell_type": "markdown",
      "source": [
        "# Filter Automatic Responses"
      ],
      "metadata": {
        "id": "B6I18zRqIeHs"
      }
    },
    {
      "cell_type": "code",
      "source": [
        "def gmail_filter_autoresponses(creds):\n",
        "  try:\n",
        "    # Call the Gmail API\n",
        "    service = build('gmail', 'v1', credentials=creds)\n",
        "\n",
        "    # labels = gmail_get_labels(creds)\n",
        "    # request a list of all the messages\n",
        "    result = service.users().messages().list(userId='me', q=\"-is:starred\", maxResults=10).execute()\n",
        "    messages = result.get('messages')\n",
        "\n",
        "    message_list = []\n",
        "\n",
        "    for msg in messages:\n",
        "      txt = service.users().messages().get(userId='me', id=msg['id']).execute()\n",
        "      payload = txt.get(\"payload\")\n",
        "      parts = payload.get(\"parts\")\n",
        "      if parts:\n",
        "        parts = parts[0]\n",
        "        body = parts.get(\"body\")\n",
        "        data = body.get(\"data\")\n",
        "      else:\n",
        "        print(\"Could not read message body. Skipping.\")\n",
        "        continue\n",
        "\n",
        "      if data:\n",
        "        data = data.replace(\"-\",\"+\").replace(\"_\",\"/\")\n",
        "        decoded_data = base64.b64decode(data)\n",
        "        soup = BeautifulSoup(decoded_data , \"lxml\")\n",
        "        if soup:\n",
        "          body = soup.find('p')\n",
        "          if body:\n",
        "            text = body.text\n",
        "            decoded = html.unescape(text)\n",
        "            no_spaces = \" \".join(decoded.split())\n",
        "            message = remove_replies(no_spaces)\n",
        "            message_list.append(message)\n",
        "\n",
        "    # return messages\n",
        "    df = pd.DataFrame(message_list, columns =['Message'])\n",
        "    df['Category'] = \"auto\"\n",
        "    print(df)\n",
        "\n",
        "  except HttpError as error:\n",
        "    print(f'An error occurred: {error}')"
      ],
      "metadata": {
        "id": "BUpLoYKzIonW"
      },
      "execution_count": null,
      "outputs": []
    },
    {
      "cell_type": "code",
      "source": [
        "creds = google_get_creds()\n",
        "gmail_filter_autoresponses(creds)"
      ],
      "metadata": {
        "colab": {
          "base_uri": "https://localhost:8080/"
        },
        "id": "Ldw51dpi_BVb",
        "outputId": "206bc351-6c01-4e1e-e9e5-ee172d06feed"
      },
      "execution_count": null,
      "outputs": [
        {
          "output_type": "stream",
          "name": "stdout",
          "text": [
            "Could not read message body. Skipping.\n",
            "Could not read message body. Skipping.\n",
            "                                             Message Category\n",
            "0  Playlists for you. These playlists might earn ...     spam\n",
            "1  Your job alert for software engineer in Pittsb...     spam\n",
            "2  Your job alert for software engineer in New Yo...     spam\n",
            "3  Your job alert for intern in Pittsburgh 10 new...     spam\n",
            "4  Your job alert for intern in New York 30+ new ...     spam\n",
            "5  Discover https://discover.app.link/3p?%243p=e_...     spam\n",
            "6  Elin Jang has accepted your invitation. Let's ...     spam\n"
          ]
        }
      ]
    }
  ]
}